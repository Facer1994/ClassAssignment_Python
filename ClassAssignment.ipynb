{
 "cells": [
  {
   "cell_type": "code",
   "execution_count": 1,
   "id": "6bd50289-ae5d-4399-bb7d-44a215d8795e",
   "metadata": {},
   "outputs": [],
   "source": [
    "# Imported the muliptiple classes from the single file using * operator \n",
    "from Mutipleclassandfunctions import * "
   ]
  },
  {
   "cell_type": "code",
   "execution_count": 2,
   "id": "07a398ea-ca9e-46a0-ba07-ceb34eb5783f",
   "metadata": {},
   "outputs": [],
   "source": [
    "# Create a class and function, and list out the items in the list"
   ]
  },
  {
   "cell_type": "code",
   "execution_count": 3,
   "id": "7f273100-13de-4bd2-844b-0141d3ec730d",
   "metadata": {},
   "outputs": [
    {
     "name": "stdout",
     "output_type": "stream",
     "text": [
      "Sub-fields in AI are:\n",
      "Machine Learning\n",
      "Neural Networks\n",
      "Vision\n",
      "Robotics\n",
      "Speech Processing\n",
      "Natural Language Processing\n"
     ]
    }
   ],
   "source": [
    "SubfieldsInAI.Subfields()"
   ]
  },
  {
   "cell_type": "code",
   "execution_count": 4,
   "id": "afe872a0-3b12-4a49-86b2-da7041bb0986",
   "metadata": {},
   "outputs": [],
   "source": [
    "# Create a class and function that checks whether the given number is Odd or Even"
   ]
  },
  {
   "cell_type": "code",
   "execution_count": 5,
   "id": "bb43d9b9-b67a-4d9d-9bc4-2fa7f3c60cde",
   "metadata": {},
   "outputs": [
    {
     "name": "stdin",
     "output_type": "stream",
     "text": [
      "Enter a number: 2\n"
     ]
    },
    {
     "name": "stdout",
     "output_type": "stream",
     "text": [
      "2 is  Even number\n"
     ]
    }
   ],
   "source": [
    "OddEven.OddEven()"
   ]
  },
  {
   "cell_type": "code",
   "execution_count": 6,
   "id": "a26c7b98-21f0-495f-9c8c-6cbddb54a775",
   "metadata": {},
   "outputs": [],
   "source": [
    "# Create a class and function that tells elegibility of marriage for male and female according to their age limit like 21 for male and 18 for female"
   ]
  },
  {
   "cell_type": "code",
   "execution_count": 7,
   "id": "950c5c62-fa6c-4838-a76b-56e089a01527",
   "metadata": {},
   "outputs": [
    {
     "name": "stdin",
     "output_type": "stream",
     "text": [
      "Your Gender : Male\n",
      "Your Age:  21\n"
     ]
    },
    {
     "name": "stdout",
     "output_type": "stream",
     "text": [
      "ELIGIBLE\n"
     ]
    }
   ],
   "source": [
    "EligibilityForMarriage.Elegible()"
   ]
  },
  {
   "cell_type": "code",
   "execution_count": 8,
   "id": "d1ea4364-0b04-466d-8cdf-5e9fa9142e9d",
   "metadata": {},
   "outputs": [],
   "source": [
    "# calculate the percentage of your 10th mark using class and functions"
   ]
  },
  {
   "cell_type": "code",
   "execution_count": 9,
   "id": "2a78947e-f603-47be-b89e-6a0727218bf1",
   "metadata": {},
   "outputs": [
    {
     "name": "stdin",
     "output_type": "stream",
     "text": [
      "Subject1=  98\n",
      "Subject2=  87\n",
      "Subject3=  95\n",
      "Subject4=  95\n",
      "Subject5=  93\n"
     ]
    },
    {
     "name": "stdout",
     "output_type": "stream",
     "text": [
      "Total : 468\n",
      "93.6\n"
     ]
    }
   ],
   "source": [
    "FindPercentage.percentage()"
   ]
  },
  {
   "cell_type": "code",
   "execution_count": 10,
   "id": "22f23f8c-d487-40bb-8743-9764cb7e2faf",
   "metadata": {},
   "outputs": [],
   "source": [
    "# print area and perimeter of triangle using class and functions"
   ]
  },
  {
   "cell_type": "code",
   "execution_count": 11,
   "id": "c80a2c66-8d9f-481c-901b-c8ce6539a5ef",
   "metadata": {},
   "outputs": [
    {
     "name": "stdin",
     "output_type": "stream",
     "text": [
      "Height:  32\n",
      "Breadth:  34\n"
     ]
    },
    {
     "name": "stdout",
     "output_type": "stream",
     "text": [
      "Area formula: Height*Breadth)/2\n",
      "Area of Triangle: 544.0\n"
     ]
    },
    {
     "name": "stdin",
     "output_type": "stream",
     "text": [
      "Height1:  2\n",
      "Height2:  4\n",
      "Breadth:  4\n"
     ]
    },
    {
     "name": "stdout",
     "output_type": "stream",
     "text": [
      "Perimeter formula: Height1+Height2+Breadth1\n",
      "Perimeter of Triangle:  10\n"
     ]
    }
   ],
   "source": [
    "triangle.triangle()"
   ]
  },
  {
   "cell_type": "code",
   "execution_count": null,
   "id": "9d549f01-8684-4772-886f-cdcdbe6ea109",
   "metadata": {},
   "outputs": [],
   "source": []
  }
 ],
 "metadata": {
  "kernelspec": {
   "display_name": "Python 3 (ipykernel)",
   "language": "python",
   "name": "python3"
  },
  "language_info": {
   "codemirror_mode": {
    "name": "ipython",
    "version": 3
   },
   "file_extension": ".py",
   "mimetype": "text/x-python",
   "name": "python",
   "nbconvert_exporter": "python",
   "pygments_lexer": "ipython3",
   "version": "3.12.5"
  }
 },
 "nbformat": 4,
 "nbformat_minor": 5
}
